{
 "cells": [
  {
   "cell_type": "code",
   "execution_count": 1,
   "id": "8d2120b5-0da9-42aa-9ef8-48e825e1e972",
   "metadata": {},
   "outputs": [],
   "source": [
    "import pandas as pd"
   ]
  },
  {
   "cell_type": "code",
   "execution_count": 2,
   "id": "6c8c2447-08c8-4e2d-8511-94a3f33828e1",
   "metadata": {},
   "outputs": [],
   "source": [
    "df = pd.read_csv('../../../api/lab/stations.csv')"
   ]
  },
  {
   "cell_type": "code",
   "execution_count": 6,
   "id": "9f443e08-28d0-4908-8bef-83a05ac92b02",
   "metadata": {
    "tags": []
   },
   "outputs": [
    {
     "data": {
      "text/plain": [
       "0                        BAQUEIMADAS\n",
       "1                            RNMACAU\n",
       "2      RJSAQUAREMA - SAMPAIO CORREIA\n",
       "3            RSSANTANA DO LIVRAMENTO\n",
       "4                       ESVILA VELHA\n",
       "                   ...              \n",
       "617                    RJTERESOPOLIS\n",
       "618                       SPSOROCABA\n",
       "619              BABOM JESUS DA LAPA\n",
       "620                          BAIPIAU\n",
       "621                      SEITABAIANA\n",
       "Length: 622, dtype: object"
      ]
     },
     "execution_count": 6,
     "metadata": {},
     "output_type": "execute_result"
    }
   ],
   "source": [
    "df.state + df.station"
   ]
  },
  {
   "cell_type": "code",
   "execution_count": 15,
   "id": "26cf85f9-a9be-45ab-ac09-407d45c1ae4e",
   "metadata": {},
   "outputs": [],
   "source": [
    "a = df.region+':'+df.state+':'+df.station_code+' -' + df.station"
   ]
  },
  {
   "cell_type": "code",
   "execution_count": 23,
   "id": "55e775e1-7f65-4305-9212-6c166eb5bc56",
   "metadata": {},
   "outputs": [
    {
     "name": "stdout",
     "output_type": "stream",
     "text": [
      "|     | region   | state   | station_code   | station                 |\n",
      "|----:|:---------|:--------|:---------------|:------------------------|\n",
      "|   4 | SE       | ES      | A634           | VILA VELHA              |\n",
      "|  47 | SE       | ES      | A617           | ALEGRE                  |\n",
      "|  89 | SE       | ES      | A612           | VITORIA                 |\n",
      "|  97 | SE       | ES      | A657           | AFONSO CLAUDIO          |\n",
      "| 206 | SE       | ES      | A614           | LINHARES                |\n",
      "| 209 | SE       | ES      | A623           | NOVA VENECIA            |\n",
      "| 268 | SE       | ES      | A615           | ALFREDO CHAVES          |\n",
      "| 291 | SE       | ES      | A616           | SAO MATEUS              |\n",
      "| 417 | SE       | ES      | A633           | VENDA NOVA DO IMIGRANTE |\n",
      "| 437 | SE       | ES      | A632           | MARILANDIA              |\n",
      "| 516 | SE       | ES      | A613           | SANTA TERESA            |\n",
      "| 520 | SE       | ES      | A631           | ECOPORANGA              |\n",
      "| 569 | SE       | ES      | A622           | PRES. KENNEDY           |\n"
     ]
    }
   ],
   "source": [
    "print(df.loc[df.state=='ES',['region','state','station_code','station']].to_markdown())"
   ]
  },
  {
   "cell_type": "code",
   "execution_count": 8,
   "id": "e935b235-c7bc-42cc-bf8b-c567cec915e9",
   "metadata": {},
   "outputs": [
    {
     "data": {
      "text/plain": [
       "Index(['station', 'region', 'state', 'station_code', 'first date', 'height',\n",
       "       'longitude', 'latitude'],\n",
       "      dtype='object')"
      ]
     },
     "execution_count": 8,
     "metadata": {},
     "output_type": "execute_result"
    }
   ],
   "source": [
    "df.columns"
   ]
  },
  {
   "cell_type": "code",
   "execution_count": null,
   "id": "7bba31dc-4887-4281-a814-eba11f6ab88d",
   "metadata": {},
   "outputs": [],
   "source": []
  },
  {
   "cell_type": "code",
   "execution_count": null,
   "id": "c69a19dd-4683-4882-b9c5-8eb874de2d12",
   "metadata": {},
   "outputs": [],
   "source": []
  }
 ],
 "metadata": {
  "kernelspec": {
   "display_name": "Python 3 (ipykernel)",
   "language": "python",
   "name": "python3"
  },
  "language_info": {
   "codemirror_mode": {
    "name": "ipython",
    "version": 3
   },
   "file_extension": ".py",
   "mimetype": "text/x-python",
   "name": "python",
   "nbconvert_exporter": "python",
   "pygments_lexer": "ipython3",
   "version": "3.10.6"
  }
 },
 "nbformat": 4,
 "nbformat_minor": 5
}
