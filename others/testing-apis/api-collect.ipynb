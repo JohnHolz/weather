{
 "cells": [
  {
   "cell_type": "code",
   "execution_count": 3,
   "id": "1f5841e2-8f3d-4494-b2aa-80c4a80a23fc",
   "metadata": {},
   "outputs": [],
   "source": [
    "from jh_utils.data.sql.object import create_object_DB_by_envfile\n",
    "from jh_utils.data.pandas.sql import write_sql_table, get_sql_table\n",
    "import pandas as pd"
   ]
  },
  {
   "cell_type": "code",
   "execution_count": 4,
   "id": "2ad3a06c-916e-42be-bb96-87e5464291eb",
   "metadata": {},
   "outputs": [],
   "source": [
    "query = '''\n",
    "SELECT c.station,\n",
    "       c.\"data\",\n",
    "       c.hora,\n",
    "       c.\"temperatura maxima na hora ant. (aut) (°c)\",\n",
    "       c.\"temperatura minima na hora ant. (aut) (°c)\"\n",
    "FROM public.collected c\n",
    "WHERE TO_TIMESTAMP(c.\"data\" || ' ' || c.hora, 'DD/MM/YYYY HH24:MI') >= (CURRENT_TIMESTAMP - INTERVAL '72 hours')\n",
    "'''"
   ]
  },
  {
   "cell_type": "code",
   "execution_count": 5,
   "id": "3db4f72e-0406-4f2d-9abe-72dd35139062",
   "metadata": {},
   "outputs": [],
   "source": [
    "ob = create_object_DB_by_envfile('../../../.env')"
   ]
  },
  {
   "cell_type": "code",
   "execution_count": 6,
   "id": "23e9a82d-7876-42f0-90f5-2c44efacab45",
   "metadata": {},
   "outputs": [],
   "source": [
    "df = pd.read_sql(query,con=ob.engine())"
   ]
  },
  {
   "cell_type": "code",
   "execution_count": 21,
   "id": "237547be-cef1-41ec-851c-be8c3ec4812c",
   "metadata": {},
   "outputs": [],
   "source": [
    "df.columns = ['station', 'data', 'hora', 'temp max', 'temp min']"
   ]
  },
  {
   "cell_type": "code",
   "execution_count": 11,
   "id": "92a77843-5237-4878-904e-5654b22b4ee2",
   "metadata": {},
   "outputs": [
    {
     "data": {
      "text/plain": [
       "array(['A612', 'A634', 'A617', 'A614', 'A616', 'A633', 'A632', 'A631',\n",
       "       'A622'], dtype=object)"
      ]
     },
     "execution_count": 11,
     "metadata": {},
     "output_type": "execute_result"
    }
   ],
   "source": [
    "ret_dict = {}\n",
    "for i in df.station.unique():\n",
    "    ret_dict[i] = "
   ]
  },
  {
   "cell_type": "code",
   "execution_count": 22,
   "id": "7fe77630-dc77-4aaa-9c4b-86ad30c0d1e9",
   "metadata": {},
   "outputs": [],
   "source": [
    "a = df[df.station=='A612']"
   ]
  },
  {
   "cell_type": "code",
   "execution_count": 23,
   "id": "10d43382-b32b-4170-86a8-1f48e212a31a",
   "metadata": {},
   "outputs": [
    {
     "data": {
      "text/plain": [
       "'[{\"station\":\"A612\",\"data\":\"04\\\\/01\\\\/2024\",\"hora\":\"00:00\",\"temp max\":26.2,\"temp min\":25.4},{\"station\":\"A612\",\"data\":\"04\\\\/01\\\\/2024\",\"hora\":\"01:00\",\"temp max\":25.4,\"temp min\":25.2},{\"station\":\"A612\",\"data\":\"04\\\\/01\\\\/2024\",\"hora\":\"02:00\",\"temp max\":25.3,\"temp min\":25.1},{\"station\":\"A612\",\"data\":\"04\\\\/01\\\\/2024\",\"hora\":\"03:00\",\"temp max\":25.8,\"temp min\":25.3},{\"station\":\"A612\",\"data\":\"04\\\\/01\\\\/2024\",\"hora\":\"04:00\",\"temp max\":25.8,\"temp min\":25.2},{\"station\":\"A612\",\"data\":\"04\\\\/01\\\\/2024\",\"hora\":\"05:00\",\"temp max\":25.9,\"temp min\":25.3},{\"station\":\"A612\",\"data\":\"04\\\\/01\\\\/2024\",\"hora\":\"06:00\",\"temp max\":25.4,\"temp min\":25.2},{\"station\":\"A612\",\"data\":\"04\\\\/01\\\\/2024\",\"hora\":\"07:00\",\"temp max\":25.3,\"temp min\":25.2},{\"station\":\"A612\",\"data\":\"04\\\\/01\\\\/2024\",\"hora\":\"08:00\",\"temp max\":25.2,\"temp min\":24.9},{\"station\":\"A612\",\"data\":\"04\\\\/01\\\\/2024\",\"hora\":\"09:00\",\"temp max\":25.9,\"temp min\":24.9},{\"station\":\"A612\",\"data\":\"04\\\\/01\\\\/2024\",\"hora\":\"10:00\",\"temp max\":26.0,\"temp min\":25.7},{\"station\":\"A612\",\"data\":\"04\\\\/01\\\\/2024\",\"hora\":\"11:00\",\"temp max\":27.2,\"temp min\":26.0},{\"station\":\"A612\",\"data\":\"04\\\\/01\\\\/2024\",\"hora\":\"12:00\",\"temp max\":28.6,\"temp min\":27.1},{\"station\":\"A612\",\"data\":\"04\\\\/01\\\\/2024\",\"hora\":\"13:00\",\"temp max\":29.8,\"temp min\":28.4},{\"station\":\"A612\",\"data\":\"04\\\\/01\\\\/2024\",\"hora\":\"14:00\",\"temp max\":31.0,\"temp min\":29.8},{\"station\":\"A612\",\"data\":\"04\\\\/01\\\\/2024\",\"hora\":\"15:00\",\"temp max\":31.4,\"temp min\":29.9},{\"station\":\"A612\",\"data\":\"04\\\\/01\\\\/2024\",\"hora\":\"16:00\",\"temp max\":31.0,\"temp min\":30.0},{\"station\":\"A612\",\"data\":\"04\\\\/01\\\\/2024\",\"hora\":\"17:00\",\"temp max\":30.0,\"temp min\":29.3},{\"station\":\"A612\",\"data\":\"04\\\\/01\\\\/2024\",\"hora\":\"18:00\",\"temp max\":30.2,\"temp min\":29.1},{\"station\":\"A612\",\"data\":\"04\\\\/01\\\\/2024\",\"hora\":\"19:00\",\"temp max\":29.4,\"temp min\":28.7},{\"station\":\"A612\",\"data\":\"04\\\\/01\\\\/2024\",\"hora\":\"20:00\",\"temp max\":28.8,\"temp min\":26.5},{\"station\":\"A612\",\"data\":\"04\\\\/01\\\\/2024\",\"hora\":\"21:00\",\"temp max\":26.6,\"temp min\":26.0},{\"station\":\"A612\",\"data\":\"04\\\\/01\\\\/2024\",\"hora\":\"22:00\",\"temp max\":26.1,\"temp min\":25.7},{\"station\":\"A612\",\"data\":\"05\\\\/01\\\\/2024\",\"hora\":\"00:00\",\"temp max\":25.5,\"temp min\":25.4},{\"station\":\"A612\",\"data\":\"05\\\\/01\\\\/2024\",\"hora\":\"01:00\",\"temp max\":25.5,\"temp min\":25.4},{\"station\":\"A612\",\"data\":\"05\\\\/01\\\\/2024\",\"hora\":\"02:00\",\"temp max\":25.6,\"temp min\":24.8},{\"station\":\"A612\",\"data\":\"05\\\\/01\\\\/2024\",\"hora\":\"03:00\",\"temp max\":24.8,\"temp min\":24.3},{\"station\":\"A612\",\"data\":\"05\\\\/01\\\\/2024\",\"hora\":\"04:00\",\"temp max\":24.6,\"temp min\":24.4},{\"station\":\"A612\",\"data\":\"05\\\\/01\\\\/2024\",\"hora\":\"05:00\",\"temp max\":24.6,\"temp min\":24.5},{\"station\":\"A612\",\"data\":\"05\\\\/01\\\\/2024\",\"hora\":\"06:00\",\"temp max\":24.6,\"temp min\":24.5},{\"station\":\"A612\",\"data\":\"05\\\\/01\\\\/2024\",\"hora\":\"07:00\",\"temp max\":24.9,\"temp min\":24.6},{\"station\":\"A612\",\"data\":\"05\\\\/01\\\\/2024\",\"hora\":\"08:00\",\"temp max\":24.7,\"temp min\":24.1},{\"station\":\"A612\",\"data\":\"05\\\\/01\\\\/2024\",\"hora\":\"09:00\",\"temp max\":24.5,\"temp min\":24.2},{\"station\":\"A612\",\"data\":\"05\\\\/01\\\\/2024\",\"hora\":\"10:00\",\"temp max\":26.1,\"temp min\":24.5},{\"station\":\"A612\",\"data\":\"05\\\\/01\\\\/2024\",\"hora\":\"11:00\",\"temp max\":27.7,\"temp min\":26.0},{\"station\":\"A612\",\"data\":\"05\\\\/01\\\\/2024\",\"hora\":\"12:00\",\"temp max\":30.1,\"temp min\":27.6},{\"station\":\"A612\",\"data\":\"05\\\\/01\\\\/2024\",\"hora\":\"13:00\",\"temp max\":29.7,\"temp min\":27.7},{\"station\":\"A612\",\"data\":\"05\\\\/01\\\\/2024\",\"hora\":\"14:00\",\"temp max\":28.3,\"temp min\":24.8},{\"station\":\"A612\",\"data\":\"05\\\\/01\\\\/2024\",\"hora\":\"15:00\",\"temp max\":24.8,\"temp min\":23.5},{\"station\":\"A612\",\"data\":\"05\\\\/01\\\\/2024\",\"hora\":\"16:00\",\"temp max\":24.0,\"temp min\":23.5},{\"station\":\"A612\",\"data\":\"05\\\\/01\\\\/2024\",\"hora\":\"17:00\",\"temp max\":23.8,\"temp min\":23.4},{\"station\":\"A612\",\"data\":\"05\\\\/01\\\\/2024\",\"hora\":\"00:00\",\"temp max\":25.5,\"temp min\":25.4},{\"station\":\"A612\",\"data\":\"05\\\\/01\\\\/2024\",\"hora\":\"01:00\",\"temp max\":25.5,\"temp min\":25.4},{\"station\":\"A612\",\"data\":\"05\\\\/01\\\\/2024\",\"hora\":\"02:00\",\"temp max\":25.6,\"temp min\":24.8},{\"station\":\"A612\",\"data\":\"05\\\\/01\\\\/2024\",\"hora\":\"03:00\",\"temp max\":24.8,\"temp min\":24.3},{\"station\":\"A612\",\"data\":\"05\\\\/01\\\\/2024\",\"hora\":\"04:00\",\"temp max\":24.6,\"temp min\":24.4},{\"station\":\"A612\",\"data\":\"05\\\\/01\\\\/2024\",\"hora\":\"05:00\",\"temp max\":24.6,\"temp min\":24.5},{\"station\":\"A612\",\"data\":\"05\\\\/01\\\\/2024\",\"hora\":\"06:00\",\"temp max\":24.6,\"temp min\":24.5},{\"station\":\"A612\",\"data\":\"05\\\\/01\\\\/2024\",\"hora\":\"07:00\",\"temp max\":24.9,\"temp min\":24.6},{\"station\":\"A612\",\"data\":\"05\\\\/01\\\\/2024\",\"hora\":\"08:00\",\"temp max\":24.7,\"temp min\":24.1},{\"station\":\"A612\",\"data\":\"05\\\\/01\\\\/2024\",\"hora\":\"09:00\",\"temp max\":24.5,\"temp min\":24.2},{\"station\":\"A612\",\"data\":\"05\\\\/01\\\\/2024\",\"hora\":\"10:00\",\"temp max\":26.1,\"temp min\":24.5},{\"station\":\"A612\",\"data\":\"05\\\\/01\\\\/2024\",\"hora\":\"11:00\",\"temp max\":27.7,\"temp min\":26.0},{\"station\":\"A612\",\"data\":\"05\\\\/01\\\\/2024\",\"hora\":\"12:00\",\"temp max\":30.1,\"temp min\":27.6},{\"station\":\"A612\",\"data\":\"05\\\\/01\\\\/2024\",\"hora\":\"13:00\",\"temp max\":29.7,\"temp min\":27.7},{\"station\":\"A612\",\"data\":\"05\\\\/01\\\\/2024\",\"hora\":\"14:00\",\"temp max\":28.3,\"temp min\":24.8},{\"station\":\"A612\",\"data\":\"05\\\\/01\\\\/2024\",\"hora\":\"15:00\",\"temp max\":24.8,\"temp min\":23.5},{\"station\":\"A612\",\"data\":\"05\\\\/01\\\\/2024\",\"hora\":\"16:00\",\"temp max\":24.0,\"temp min\":23.5},{\"station\":\"A612\",\"data\":\"05\\\\/01\\\\/2024\",\"hora\":\"17:00\",\"temp max\":23.8,\"temp min\":23.4},{\"station\":\"A612\",\"data\":\"05\\\\/01\\\\/2024\",\"hora\":\"18:00\",\"temp max\":25.0,\"temp min\":23.6},{\"station\":\"A612\",\"data\":\"05\\\\/01\\\\/2024\",\"hora\":\"00:00\",\"temp max\":25.5,\"temp min\":25.4},{\"station\":\"A612\",\"data\":\"05\\\\/01\\\\/2024\",\"hora\":\"01:00\",\"temp max\":25.5,\"temp min\":25.4},{\"station\":\"A612\",\"data\":\"05\\\\/01\\\\/2024\",\"hora\":\"02:00\",\"temp max\":25.6,\"temp min\":24.8},{\"station\":\"A612\",\"data\":\"05\\\\/01\\\\/2024\",\"hora\":\"03:00\",\"temp max\":24.8,\"temp min\":24.3},{\"station\":\"A612\",\"data\":\"05\\\\/01\\\\/2024\",\"hora\":\"04:00\",\"temp max\":24.6,\"temp min\":24.4},{\"station\":\"A612\",\"data\":\"05\\\\/01\\\\/2024\",\"hora\":\"05:00\",\"temp max\":24.6,\"temp min\":24.5},{\"station\":\"A612\",\"data\":\"05\\\\/01\\\\/2024\",\"hora\":\"06:00\",\"temp max\":24.6,\"temp min\":24.5},{\"station\":\"A612\",\"data\":\"05\\\\/01\\\\/2024\",\"hora\":\"07:00\",\"temp max\":24.9,\"temp min\":24.6},{\"station\":\"A612\",\"data\":\"05\\\\/01\\\\/2024\",\"hora\":\"08:00\",\"temp max\":24.7,\"temp min\":24.1},{\"station\":\"A612\",\"data\":\"05\\\\/01\\\\/2024\",\"hora\":\"09:00\",\"temp max\":24.5,\"temp min\":24.2},{\"station\":\"A612\",\"data\":\"05\\\\/01\\\\/2024\",\"hora\":\"10:00\",\"temp max\":26.1,\"temp min\":24.5},{\"station\":\"A612\",\"data\":\"05\\\\/01\\\\/2024\",\"hora\":\"11:00\",\"temp max\":27.7,\"temp min\":26.0},{\"station\":\"A612\",\"data\":\"05\\\\/01\\\\/2024\",\"hora\":\"12:00\",\"temp max\":30.1,\"temp min\":27.6},{\"station\":\"A612\",\"data\":\"05\\\\/01\\\\/2024\",\"hora\":\"13:00\",\"temp max\":29.7,\"temp min\":27.7},{\"station\":\"A612\",\"data\":\"05\\\\/01\\\\/2024\",\"hora\":\"14:00\",\"temp max\":28.3,\"temp min\":24.8},{\"station\":\"A612\",\"data\":\"05\\\\/01\\\\/2024\",\"hora\":\"15:00\",\"temp max\":24.8,\"temp min\":23.5},{\"station\":\"A612\",\"data\":\"05\\\\/01\\\\/2024\",\"hora\":\"16:00\",\"temp max\":24.0,\"temp min\":23.5},{\"station\":\"A612\",\"data\":\"05\\\\/01\\\\/2024\",\"hora\":\"17:00\",\"temp max\":23.8,\"temp min\":23.4},{\"station\":\"A612\",\"data\":\"05\\\\/01\\\\/2024\",\"hora\":\"18:00\",\"temp max\":25.0,\"temp min\":23.6},{\"station\":\"A612\",\"data\":\"05\\\\/01\\\\/2024\",\"hora\":\"00:00\",\"temp max\":25.5,\"temp min\":25.4},{\"station\":\"A612\",\"data\":\"05\\\\/01\\\\/2024\",\"hora\":\"01:00\",\"temp max\":25.5,\"temp min\":25.4},{\"station\":\"A612\",\"data\":\"05\\\\/01\\\\/2024\",\"hora\":\"02:00\",\"temp max\":25.6,\"temp min\":24.8},{\"station\":\"A612\",\"data\":\"05\\\\/01\\\\/2024\",\"hora\":\"03:00\",\"temp max\":24.8,\"temp min\":24.3},{\"station\":\"A612\",\"data\":\"05\\\\/01\\\\/2024\",\"hora\":\"04:00\",\"temp max\":24.6,\"temp min\":24.4},{\"station\":\"A612\",\"data\":\"05\\\\/01\\\\/2024\",\"hora\":\"05:00\",\"temp max\":24.6,\"temp min\":24.5},{\"station\":\"A612\",\"data\":\"05\\\\/01\\\\/2024\",\"hora\":\"06:00\",\"temp max\":24.6,\"temp min\":24.5},{\"station\":\"A612\",\"data\":\"05\\\\/01\\\\/2024\",\"hora\":\"07:00\",\"temp max\":24.9,\"temp min\":24.6},{\"station\":\"A612\",\"data\":\"05\\\\/01\\\\/2024\",\"hora\":\"08:00\",\"temp max\":24.7,\"temp min\":24.1},{\"station\":\"A612\",\"data\":\"05\\\\/01\\\\/2024\",\"hora\":\"09:00\",\"temp max\":24.5,\"temp min\":24.2},{\"station\":\"A612\",\"data\":\"05\\\\/01\\\\/2024\",\"hora\":\"10:00\",\"temp max\":26.1,\"temp min\":24.5},{\"station\":\"A612\",\"data\":\"05\\\\/01\\\\/2024\",\"hora\":\"11:00\",\"temp max\":27.7,\"temp min\":26.0},{\"station\":\"A612\",\"data\":\"05\\\\/01\\\\/2024\",\"hora\":\"12:00\",\"temp max\":30.1,\"temp min\":27.6},{\"station\":\"A612\",\"data\":\"05\\\\/01\\\\/2024\",\"hora\":\"13:00\",\"temp max\":29.7,\"temp min\":27.7},{\"station\":\"A612\",\"data\":\"05\\\\/01\\\\/2024\",\"hora\":\"14:00\",\"temp max\":28.3,\"temp min\":24.8},{\"station\":\"A612\",\"data\":\"05\\\\/01\\\\/2024\",\"hora\":\"15:00\",\"temp max\":24.8,\"temp min\":23.5},{\"station\":\"A612\",\"data\":\"05\\\\/01\\\\/2024\",\"hora\":\"16:00\",\"temp max\":24.0,\"temp min\":23.5},{\"station\":\"A612\",\"data\":\"05\\\\/01\\\\/2024\",\"hora\":\"17:00\",\"temp max\":23.8,\"temp min\":23.4},{\"station\":\"A612\",\"data\":\"05\\\\/01\\\\/2024\",\"hora\":\"18:00\",\"temp max\":25.0,\"temp min\":23.6},{\"station\":\"A612\",\"data\":\"05\\\\/01\\\\/2024\",\"hora\":\"19:00\",\"temp max\":25.7,\"temp min\":24.9}]'"
      ]
     },
     "execution_count": 23,
     "metadata": {},
     "output_type": "execute_result"
    }
   ],
   "source": [
    "a.to_json(orient='records')"
   ]
  }
 ],
 "metadata": {
  "kernelspec": {
   "display_name": "Python 3 (ipykernel)",
   "language": "python",
   "name": "python3"
  },
  "language_info": {
   "codemirror_mode": {
    "name": "ipython",
    "version": 3
   },
   "file_extension": ".py",
   "mimetype": "text/x-python",
   "name": "python",
   "nbconvert_exporter": "python",
   "pygments_lexer": "ipython3",
   "version": "3.10.6"
  }
 },
 "nbformat": 4,
 "nbformat_minor": 5
}
