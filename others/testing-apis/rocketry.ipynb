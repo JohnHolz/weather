{
 "cells": [
  {
   "cell_type": "code",
   "execution_count": null,
   "id": "168b1db1-4dbe-4275-bda4-382177d6e11f",
   "metadata": {},
   "outputs": [],
   "source": [
    "import os\n",
    "import requests as rq\n",
    "\n",
    "path = '127.0.0.1'\n",
    "port = '5008'\n",
    "route = '/collect_station'\n",
    "json_data = {'station_code':'A612'}\n",
    "\n",
    "\n",
    "def make_request_to_collect_data():\n",
    "    req = rq.post(f'{path}:{port}{route}', data=json_data)\n",
    "    return req\n",
    "\n",
    "def send_request_to_seleniumAPI_to_collect_station():\n",
    "    try:\n",
    "        retorno = make_request_to_collect_data()\n",
    "        os.system(f\"echo {retorno.status_code}{retorno.content}\")\n",
    "    except:\n",
    "        log = {log: 'ERR: failed'}\n"
   ]
  }
 ],
 "metadata": {
  "kernelspec": {
   "display_name": "Python 3 (ipykernel)",
   "language": "python",
   "name": "python3"
  },
  "language_info": {
   "codemirror_mode": {
    "name": "ipython",
    "version": 3
   },
   "file_extension": ".py",
   "mimetype": "text/x-python",
   "name": "python",
   "nbconvert_exporter": "python",
   "pygments_lexer": "ipython3",
   "version": "3.10.6"
  }
 },
 "nbformat": 4,
 "nbformat_minor": 5
}
