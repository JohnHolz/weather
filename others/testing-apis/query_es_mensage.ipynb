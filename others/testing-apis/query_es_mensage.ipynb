{
 "cells": [
  {
   "cell_type": "code",
   "execution_count": 4,
   "id": "40b34795-4fda-4762-ab5f-44d53237ba5c",
   "metadata": {},
   "outputs": [],
   "source": [
    "query = '''SELECT c.station,\n",
    "       c.\"data\",\n",
    "       c.hora,\n",
    "       c.\"temperatura maxima na hora ant. (aut) (°c)\",\n",
    "       c.\"temperatura minima na hora ant. (aut) (°c)\"\n",
    "FROM public.collected c\n",
    "JOIN (\n",
    "    SELECT station, MAX(\"data\") as max_data, MAX(hora) as max_hora\n",
    "    FROM public.collected\n",
    "    GROUP BY station\n",
    ") subq ON c.station = subq.station AND c.\"data\" = subq.max_data AND c.hora = subq.max_hora'''"
   ]
  },
  {
   "cell_type": "code",
   "execution_count": 5,
   "id": "0244c1d4-4bf5-42d8-ab5d-c284370984c9",
   "metadata": {},
   "outputs": [],
   "source": [
    "from jh_utils.data.sql.object import create_object_DB_by_envfile\n",
    "import pandas as pd\n",
    "import requests as rq\n",
    "from api_stations_module import get_list_of_stations_to_collect\n",
    "from jh_utils.data.pandas.sql import write_sql_table, get_sql_table"
   ]
  },
  {
   "cell_type": "code",
   "execution_count": 6,
   "id": "f86662db-d7b0-485a-b754-fe2866922558",
   "metadata": {},
   "outputs": [],
   "source": [
    "ob = create_object_DB_by_envfile('../../../.env')\n",
    "engine = ob.engine()\n",
    "df = pd.read_sql(query,con=engine)"
   ]
  },
  {
   "cell_type": "code",
   "execution_count": 8,
   "id": "bbed284c-01bd-4281-92c1-beaf22c57264",
   "metadata": {},
   "outputs": [],
   "source": []
  },
  {
   "cell_type": "code",
   "execution_count": 12,
   "id": "4f974275-da3a-4aff-af0a-e6c087694f7f",
   "metadata": {},
   "outputs": [
    {
     "name": "stdout",
     "output_type": "stream",
     "text": [
      "  station        data   hora  temperatura maxima na hora ant. (aut) (°c)  temperatura minima na hora ant. (aut) (°c)\n",
      "0    A634  05/01/2024  19:00                                        26.9                                        26.0\n",
      "1    A617  05/01/2024  19:00                                        31.5                                        30.3\n",
      "2    A614  05/01/2024  19:00                                        24.3                                        23.8\n",
      "3    A616  05/01/2024  19:00                                        33.2                                        26.6\n",
      "4    A633  05/01/2024  19:00                                        26.6                                        24.6\n",
      "5    A632  05/01/2024  19:00                                        27.2                                        24.9\n",
      "6    A631  05/01/2024  19:00                                        31.1                                        25.6\n",
      "7    A622  05/01/2024  19:00                                        30.0                                        27.9\n"
     ]
    }
   ],
   "source": [
    "print(df.to_string())"
   ]
  },
  {
   "cell_type": "code",
   "execution_count": null,
   "id": "c4acc956-d5b3-4959-8bc1-0e89a46ee9d9",
   "metadata": {},
   "outputs": [],
   "source": [
    "def get_temperature_message():\n",
    "    ob = create_object_DB_by_envfile('../../../.env')\n",
    "    engine = ob.engine()\n",
    "    df = pd.read_sql(query,con=engine)\n",
    "    return df.to_string()"
   ]
  },
  {
   "cell_type": "code",
   "execution_count": null,
   "id": "c6f5cbdd-c155-4f8f-9b89-b969a168b390",
   "metadata": {},
   "outputs": [
    {
     "data": {
      "text/plain": [
       "'  station        data   hora  temperatura maxima na hora ant. (aut) (°c)  temperatura minima na hora ant. (aut) (°c)\\n0    A634  05/01/2024  19:00                                        26.9                                        26.0\\n1    A617  05/01/2024  19:00                                        31.5                                        30.3\\n2    A614  05/01/2024  19:00                                        24.3                                        23.8\\n3    A616  05/01/2024  19:00                                        33.2                                        26.6\\n4    A633  05/01/2024  19:00                                        26.6                                        24.6\\n5    A632  05/01/2024  19:00                                        27.2                                        24.9\\n6    A631  05/01/2024  19:00                                        31.1                                        25.6\\n7    A622  05/01/2024  19:00                                        30.0                                        27.9'"
      ]
     },
     "execution_count": 13,
     "metadata": {},
     "output_type": "execute_result"
    }
   ],
   "source": []
  },
  {
   "cell_type": "code",
   "execution_count": null,
   "id": "c059e212",
   "metadata": {},
   "outputs": [],
   "source": [
    "r = '''SELECT c.station,\n",
    "       c.\"data\",\n",
    "       c.hora,\n",
    "       c.\"temperatura maxima na hora ant. (aut) (°c)\",\n",
    "       c.\"temperatura minima na hora ant. (aut) (°c)\"\n",
    "FROM public.collected c\n",
    "WHERE TO_TIMESTAMP(c.\"data\" || ' ' || c.hora, 'DD/MM/YYYY HH24:MI') >= (CURRENT_TIMESTAMP - INTERVAL '72 hours')'''"
   ]
  },
  {
   "cell_type": "code",
   "execution_count": null,
   "id": "9ba1dc9c",
   "metadata": {},
   "outputs": [],
   "source": []
  }
 ],
 "metadata": {
  "kernelspec": {
   "display_name": "Python 3 (ipykernel)",
   "language": "python",
   "name": "python3"
  },
  "language_info": {
   "codemirror_mode": {
    "name": "ipython",
    "version": 3
   },
   "file_extension": ".py",
   "mimetype": "text/x-python",
   "name": "python",
   "nbconvert_exporter": "python",
   "pygments_lexer": "ipython3",
   "version": "3.10.6"
  }
 },
 "nbformat": 4,
 "nbformat_minor": 5
}
