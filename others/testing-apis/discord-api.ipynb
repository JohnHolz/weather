{
 "cells": [
  {
   "cell_type": "markdown",
   "id": "be8fe32c-9108-43f3-9abc-0d1a1957f288",
   "metadata": {},
   "source": [
    "- update station\n",
    "- update whole state\n",
    "- get last hours of station"
   ]
  },
  {
   "cell_type": "code",
   "execution_count": 3,
   "id": "3dfee5f5-e1d6-440d-84f9-0af60e33e910",
   "metadata": {},
   "outputs": [],
   "source": [
    "import requests as rq"
   ]
  },
  {
   "cell_type": "code",
   "execution_count": 2,
   "id": "57c781df-0a27-4cf4-9ca1-f8f54d5d1fb3",
   "metadata": {},
   "outputs": [],
   "source": [
    "def post_collect_station_data(mensage):\n",
    "    webhook_url = 'https://discord.com/api/webhooks/1192921272800264364/lomMNo3iWZypgeN0-cGd5TSBAWaRJiIIRGWC5ckU_qICKflAqZ928jTc_dQShTBWHiev'\n",
    "    json_data = {'content':mensage}\n",
    "    req = rq.post(webhook_url, json=json_data)\n",
    "    return req"
   ]
  },
  {
   "cell_type": "code",
   "execution_count": 5,
   "id": "c8fa59b2-2509-4752-8b25-d1a0fcb4e1ae",
   "metadata": {},
   "outputs": [],
   "source": [
    "req = post_collect_station_data('test')"
   ]
  },
  {
   "cell_type": "code",
   "execution_count": 7,
   "id": "14f1a117-10e2-4f25-8988-5a200181329d",
   "metadata": {},
   "outputs": [
    {
     "data": {
      "text/plain": [
       "204"
      ]
     },
     "execution_count": 7,
     "metadata": {},
     "output_type": "execute_result"
    }
   ],
   "source": [
    "req.status_code"
   ]
  }
 ],
 "metadata": {
  "kernelspec": {
   "display_name": "Python 3 (ipykernel)",
   "language": "python",
   "name": "python3"
  },
  "language_info": {
   "codemirror_mode": {
    "name": "ipython",
    "version": 3
   },
   "file_extension": ".py",
   "mimetype": "text/x-python",
   "name": "python",
   "nbconvert_exporter": "python",
   "pygments_lexer": "ipython3",
   "version": "3.10.6"
  }
 },
 "nbformat": 4,
 "nbformat_minor": 5
}
