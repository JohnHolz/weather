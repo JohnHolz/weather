{
 "cells": [
  {
   "cell_type": "code",
   "execution_count": 1,
   "id": "2262b3c7",
   "metadata": {},
   "outputs": [],
   "source": [
    "from jh_utils.data.sql.object import create_object_DB_by_envfile\n",
    "import pandas as pd\n",
    "import requests as rq\n",
    "from api_stations_module import get_list_of_stations_to_collect\n",
    "from time import sleep"
   ]
  },
  {
   "cell_type": "code",
   "execution_count": 2,
   "id": "b0e8663d",
   "metadata": {},
   "outputs": [],
   "source": [
    "ob = create_object_DB_by_envfile('../../../.env')\n",
    "engine = ob.engine()"
   ]
  },
  {
   "cell_type": "code",
   "execution_count": 3,
   "id": "a48da824-deef-4edb-9afb-1c387bfabcef",
   "metadata": {},
   "outputs": [],
   "source": [
    "ls = get_list_of_stations_to_collect(engine)"
   ]
  },
  {
   "cell_type": "code",
   "execution_count": 4,
   "id": "61c4c8a9-1ec4-47ef-97e2-13c8e804831f",
   "metadata": {},
   "outputs": [
    {
     "data": {
      "text/plain": [
       "['A634',\n",
       " 'A617',\n",
       " 'A612',\n",
       " 'A657',\n",
       " 'A614',\n",
       " 'A623',\n",
       " 'A615',\n",
       " 'A616',\n",
       " 'A633',\n",
       " 'A632',\n",
       " 'A613',\n",
       " 'A631',\n",
       " 'A622']"
      ]
     },
     "execution_count": 4,
     "metadata": {},
     "output_type": "execute_result"
    }
   ],
   "source": [
    "ls"
   ]
  },
  {
   "cell_type": "code",
   "execution_count": 6,
   "id": "7b380c19-1ba6-41e4-9140-3850c3bc1766",
   "metadata": {},
   "outputs": [],
   "source": [
    "def post_collect_station_data(station_code):\n",
    "    path = 'http://192.168.0.14:5008/collect_station'\n",
    "    json_data = {'station_code':station_code}\n",
    "    req = rq.post(f'{path}', json=json_data)\n",
    "    return req\n",
    "\n",
    "def collect_all_stations(engine):\n",
    "    rets = {}\n",
    "    ls_stations = get_list_of_stations_to_collect(engine)\n",
    "    for i in ls_stations:\n",
    "        rets[i] = post_collect_station_data(i)\n",
    "        print(i)\n",
    "        sleep(3)\n",
    "    return rets\n",
    "\n",
    "def station_status_code(input_dict):\n",
    "    return {k:v.status_code for k,v in input_dict.items()}"
   ]
  },
  {
   "cell_type": "code",
   "execution_count": 7,
   "id": "86e6e906-d532-43f9-8c0b-62375050f101",
   "metadata": {},
   "outputs": [],
   "source": [
    "req = post_collect_station_data('A612')"
   ]
  },
  {
   "cell_type": "code",
   "execution_count": 8,
   "id": "12b58ceb-d830-4a7a-8fb3-e0e9eecf7b83",
   "metadata": {},
   "outputs": [
    {
     "data": {
      "text/plain": [
       "b'{\"message\":\"Success\"}\\n'"
      ]
     },
     "execution_count": 8,
     "metadata": {},
     "output_type": "execute_result"
    }
   ],
   "source": [
    "req.content"
   ]
  },
  {
   "cell_type": "code",
   "execution_count": 10,
   "id": "fe48c6b9-c1cb-429b-9a94-a006a774fb48",
   "metadata": {},
   "outputs": [
    {
     "name": "stdout",
     "output_type": "stream",
     "text": [
      "A634\n",
      "A617\n",
      "A612\n",
      "A657\n",
      "A614\n",
      "A623\n",
      "A615\n",
      "A616\n",
      "A633\n",
      "A632\n",
      "A613\n",
      "A631\n",
      "A622\n"
     ]
    }
   ],
   "source": [
    "req2 = collect_all_stations(engine)\n",
    "req3 = station_status_code(req2)"
   ]
  },
  {
   "cell_type": "code",
   "execution_count": 12,
   "id": "62876172-1961-4f38-bcf6-9ffbfa1d32ec",
   "metadata": {},
   "outputs": [
    {
     "data": {
      "text/plain": [
       "{'A634': <Response [200]>,\n",
       " 'A617': <Response [200]>,\n",
       " 'A612': <Response [200]>,\n",
       " 'A657': <Response [200]>,\n",
       " 'A614': <Response [200]>,\n",
       " 'A623': <Response [500]>,\n",
       " 'A615': <Response [200]>,\n",
       " 'A616': <Response [200]>,\n",
       " 'A633': <Response [200]>,\n",
       " 'A632': <Response [200]>,\n",
       " 'A613': <Response [200]>,\n",
       " 'A631': <Response [200]>,\n",
       " 'A622': <Response [200]>}"
      ]
     },
     "execution_count": 12,
     "metadata": {},
     "output_type": "execute_result"
    }
   ],
   "source": [
    "req2"
   ]
  },
  {
   "cell_type": "code",
   "execution_count": 11,
   "id": "227e0637-c4c0-4e88-965e-7f7508acc1d8",
   "metadata": {},
   "outputs": [
    {
     "data": {
      "text/plain": [
       "{'A634': 200,\n",
       " 'A617': 200,\n",
       " 'A612': 200,\n",
       " 'A657': 200,\n",
       " 'A614': 200,\n",
       " 'A623': 500,\n",
       " 'A615': 200,\n",
       " 'A616': 200,\n",
       " 'A633': 200,\n",
       " 'A632': 200,\n",
       " 'A613': 200,\n",
       " 'A631': 200,\n",
       " 'A622': 200}"
      ]
     },
     "execution_count": 11,
     "metadata": {},
     "output_type": "execute_result"
    }
   ],
   "source": [
    "req3"
   ]
  }
 ],
 "metadata": {
  "kernelspec": {
   "display_name": "Python 3 (ipykernel)",
   "language": "python",
   "name": "python3"
  },
  "language_info": {
   "codemirror_mode": {
    "name": "ipython",
    "version": 3
   },
   "file_extension": ".py",
   "mimetype": "text/x-python",
   "name": "python",
   "nbconvert_exporter": "python",
   "pygments_lexer": "ipython3",
   "version": "3.10.6"
  }
 },
 "nbformat": 4,
 "nbformat_minor": 5
}
