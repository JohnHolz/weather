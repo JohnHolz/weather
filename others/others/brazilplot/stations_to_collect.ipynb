{
 "cells": [
  {
   "cell_type": "code",
   "execution_count": 1,
   "id": "ac32f872-d287-47ee-8886-9b74526c8a32",
   "metadata": {},
   "outputs": [],
   "source": [
    "import pandas as pd"
   ]
  },
  {
   "cell_type": "code",
   "execution_count": 2,
   "id": "394f8d2b-70e7-41c3-b0f3-756b84da697d",
   "metadata": {},
   "outputs": [],
   "source": [
    "stations = pd.read_csv('../../data/03_datasets/stations.csv')"
   ]
  },
  {
   "cell_type": "code",
   "execution_count": 7,
   "id": "20168861-4ef8-49a4-9046-6a263c517b1c",
   "metadata": {},
   "outputs": [
    {
     "data": {
      "text/plain": [
       "['A634',\n",
       " 'A617',\n",
       " 'A612',\n",
       " 'A657',\n",
       " 'A614',\n",
       " 'A623',\n",
       " 'A615',\n",
       " 'A616',\n",
       " 'A633',\n",
       " 'A632',\n",
       " 'A613',\n",
       " 'A631',\n",
       " 'A622']"
      ]
     },
     "execution_count": 7,
     "metadata": {},
     "output_type": "execute_result"
    }
   ],
   "source": [
    "stations[stations.state == 'ES'].station_code.to_list()"
   ]
  }
 ],
 "metadata": {
  "kernelspec": {
   "display_name": "Python 3 (ipykernel)",
   "language": "python",
   "name": "python3"
  },
  "language_info": {
   "codemirror_mode": {
    "name": "ipython",
    "version": 3
   },
   "file_extension": ".py",
   "mimetype": "text/x-python",
   "name": "python",
   "nbconvert_exporter": "python",
   "pygments_lexer": "ipython3",
   "version": "3.10.4"
  }
 },
 "nbformat": 4,
 "nbformat_minor": 5
}
