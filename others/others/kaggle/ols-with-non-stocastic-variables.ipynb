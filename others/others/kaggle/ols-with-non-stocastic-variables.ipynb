{
 "cells": [
  {
   "cell_type": "markdown",
   "id": "a53d36cf",
   "metadata": {
    "papermill": {
     "duration": 0.032083,
     "end_time": "2021-10-15T14:22:14.037016",
     "exception": false,
     "start_time": "2021-10-15T14:22:14.004933",
     "status": "completed"
    },
    "tags": []
   },
   "source": [
    "# OLS - Linear Regression Models Notebook\n",
    "This notebook is for making first models using dataset ES_0.  \n",
    "3 linear reg models to get information about the data to make AR models.\n",
    "\n",
    "#### Objective:\n",
    "1. make models progressively adding information as covariables:\n",
    "    1. mean and sd\n",
    "    2. ols - hour and month dummies\n",
    "    3. ols - hour transformed and month dummies \n",
    "    4. ols - hour transformed and month information as sin and cos\n",
    "\n",
    "### Proposal notebook structure:\n",
    "1. Imports and adding non-stocastic covariables\n",
    "2. Declaring X and Y to each model\n",
    "3. Model making: for each model\n",
    "    1. Create X from each of the models\n",
    "    1. metrics\n",
    "    2. errors graphs\n",
    "    3. acf and pacf errors"
   ]
  },
  {
   "cell_type": "code",
   "execution_count": 1,
   "id": "89a62f3d",
   "metadata": {
    "execution": {
     "iopub.execute_input": "2021-10-15T14:22:14.110955Z",
     "iopub.status.busy": "2021-10-15T14:22:14.110221Z",
     "iopub.status.idle": "2021-10-15T14:22:15.294216Z",
     "shell.execute_reply": "2021-10-15T14:22:15.293400Z",
     "shell.execute_reply.started": "2021-10-15T14:14:55.043912Z"
    },
    "papermill": {
     "duration": 1.227034,
     "end_time": "2021-10-15T14:22:15.294396",
     "exception": false,
     "start_time": "2021-10-15T14:22:14.067362",
     "status": "completed"
    },
    "tags": []
   },
   "outputs": [],
   "source": [
    "import pandas as pd\n",
    "import numpy as np\n",
    "import matplotlib.pyplot as plt\n",
    "from statsmodels.tsa.stattools import acf,pacf\n",
    "from statsmodels.graphics.tsaplots import plot_acf, plot_pacf\n",
    "import os\n",
    "import seaborn as sns\n",
    "sns.set()\n",
    "\n",
    "figsize = (20,7)\n",
    "figsize2 = (20,5)\n",
    "\n",
    "import os\n",
    "directory = '../input/hourly-weather-surface-brazil-southeast-region/'\n",
    "os.chdir(directory)\n",
    "import make_dataset as mk"
   ]
  },
  {
   "cell_type": "markdown",
   "id": "8e4a596c",
   "metadata": {
    "papermill": {
     "duration": 0.030714,
     "end_time": "2021-10-15T14:22:15.355308",
     "exception": false,
     "start_time": "2021-10-15T14:22:15.324594",
     "status": "completed"
    },
    "tags": []
   },
   "source": [
    "## 1. Importing and adding basic covariables"
   ]
  },
  {
   "cell_type": "code",
   "execution_count": 2,
   "id": "49800ad6",
   "metadata": {
    "execution": {
     "iopub.execute_input": "2021-10-15T14:22:15.421151Z",
     "iopub.status.busy": "2021-10-15T14:22:15.420402Z",
     "iopub.status.idle": "2021-10-15T14:23:45.553318Z",
     "shell.execute_reply": "2021-10-15T14:23:45.553898Z",
     "shell.execute_reply.started": "2021-10-15T14:14:56.222610Z"
    },
    "papermill": {
     "duration": 90.168473,
     "end_time": "2021-10-15T14:23:45.554098",
     "exception": false,
     "start_time": "2021-10-15T14:22:15.385625",
     "status": "completed"
    },
    "tags": []
   },
   "outputs": [],
   "source": [
    "df_raw = pd.read_csv('southeast.csv')\n",
    "stations = ['A612']\n",
    "start_date = '2006-11-01'\n",
    "df = mk.make_dataset(stations, start_date, df_raw)\n",
    "df_raw = None"
   ]
  },
  {
   "cell_type": "code",
   "execution_count": 3,
   "id": "1a5b41d1",
   "metadata": {
    "execution": {
     "iopub.execute_input": "2021-10-15T14:23:45.623594Z",
     "iopub.status.busy": "2021-10-15T14:23:45.622884Z",
     "iopub.status.idle": "2021-10-15T14:23:45.830777Z",
     "shell.execute_reply": "2021-10-15T14:23:45.831511Z",
     "shell.execute_reply.started": "2021-10-15T14:16:44.296116Z"
    },
    "papermill": {
     "duration": 0.247329,
     "end_time": "2021-10-15T14:23:45.831742",
     "exception": false,
     "start_time": "2021-10-15T14:23:45.584413",
     "status": "completed"
    },
    "tags": []
   },
   "outputs": [
    {
     "name": "stderr",
     "output_type": "stream",
     "text": [
      "/opt/conda/lib/python3.7/site-packages/ipykernel_launcher.py:6: FutureWarning: Series.dt.weekofyear and Series.dt.week have been deprecated.  Please use Series.dt.isocalendar().week instead.\n",
      "  \n"
     ]
    }
   ],
   "source": [
    "## adding covariables\n",
    "df['hour'] = df.date_time.dt.hour\n",
    "df['month'] = df.date_time.dt.month\n",
    "df['year'] = df.date_time.dt.year\n",
    "df['day_of_year'] = df.date_time.dt.day_of_year\n",
    "df['weekofyear'] = df.date_time.dt.weekofyear\n",
    "\n",
    "## transforming start hour in 9, to use hour**3, some models are hierarchical so is necessary to keep hour**2 \n",
    "df['hour_9'] = df['hour'].apply(lambda x: (x-9)%24)\n",
    "df['hour_9**2'] = df['hour_9']**2\n",
    "df['hour_9**3'] = df['hour_9']**3"
   ]
  },
  {
   "cell_type": "markdown",
   "id": "9c17adc2",
   "metadata": {
    "papermill": {
     "duration": 0.029888,
     "end_time": "2021-10-15T14:23:45.893899",
     "exception": false,
     "start_time": "2021-10-15T14:23:45.864011",
     "status": "completed"
    },
    "tags": []
   },
   "source": [
    "# 2 - Declaring x and y to be used"
   ]
  },
  {
   "cell_type": "code",
   "execution_count": 4,
   "id": "2e091f75",
   "metadata": {
    "execution": {
     "iopub.execute_input": "2021-10-15T14:23:45.966043Z",
     "iopub.status.busy": "2021-10-15T14:23:45.964959Z",
     "iopub.status.idle": "2021-10-15T14:23:45.967627Z",
     "shell.execute_reply": "2021-10-15T14:23:45.966990Z",
     "shell.execute_reply.started": "2021-10-15T14:16:44.512933Z"
    },
    "papermill": {
     "duration": 0.043515,
     "end_time": "2021-10-15T14:23:45.967765",
     "exception": false,
     "start_time": "2021-10-15T14:23:45.924250",
     "status": "completed"
    },
    "tags": []
   },
   "outputs": [],
   "source": [
    "## preprocessing + covariables\n",
    "def create_sincos_year_array(n,start_date,end_date,n_days_in_year = 366):\n",
    "    start_date = pd.to_datetime(start_date)\n",
    "    end_date   = pd.to_datetime(end_date)\n",
    "    \n",
    "    ## day distance\n",
    "    first_date = pd.to_datetime('{year}-01-01'.format(year = start_date.year))\n",
    "    day_of_the_year_start = (start_date - first_date).days\n",
    "        \n",
    "    ## year distance\n",
    "    distance = (end_date - first_date).days\n",
    "    \n",
    "    ##\n",
    "    start = (np.pi*2)*(day_of_the_year_start/n_days_in_year)\n",
    "    end = np.pi*2*(distance/n_days_in_year)\n",
    "    \n",
    "    length = np.arange(start, end, (end-start)/n)\n",
    "    df =  pd.concat([pd.Series(np.sin(length)),pd.Series(np.cos(length))],axis=1)\n",
    "    df.columns = ['sin_year','cos_year']\n",
    "    return df\n",
    "\n",
    "def make_dummies(series):\n",
    "    df = pd.get_dummies(series,drop_first=True)\n",
    "    df.columns = list(map(lambda x: '{}_'.format(series.name) + str(x),list(df.columns)))\n",
    "    return df"
   ]
  },
  {
   "cell_type": "markdown",
   "id": "4c5bc0da",
   "metadata": {
    "papermill": {
     "duration": 0.029836,
     "end_time": "2021-10-15T14:23:46.027993",
     "exception": false,
     "start_time": "2021-10-15T14:23:45.998157",
     "status": "completed"
    },
    "tags": []
   },
   "source": [
    "#### Y"
   ]
  },
  {
   "cell_type": "code",
   "execution_count": 5,
   "id": "8cfe23b3",
   "metadata": {
    "execution": {
     "iopub.execute_input": "2021-10-15T14:23:46.092798Z",
     "iopub.status.busy": "2021-10-15T14:23:46.091759Z",
     "iopub.status.idle": "2021-10-15T14:23:46.096097Z",
     "shell.execute_reply": "2021-10-15T14:23:46.096655Z",
     "shell.execute_reply.started": "2021-10-15T14:19:34.817599Z"
    },
    "papermill": {
     "duration": 0.038837,
     "end_time": "2021-10-15T14:23:46.096827",
     "exception": false,
     "start_time": "2021-10-15T14:23:46.057990",
     "status": "completed"
    },
    "tags": []
   },
   "outputs": [],
   "source": [
    "## setting target variables to be easy to call later\n",
    "y1,y2,y3 = 'A612_prcp','A612_tmax','A612_tmin'# 'A612 - total precipitation (mm)' \"max temp\" \"min temp\""
   ]
  },
  {
   "cell_type": "markdown",
   "id": "6d52502e",
   "metadata": {
    "papermill": {
     "duration": 0.030311,
     "end_time": "2021-10-15T14:23:46.157355",
     "exception": false,
     "start_time": "2021-10-15T14:23:46.127044",
     "status": "completed"
    },
    "tags": []
   },
   "source": [
    "## 2. Transformed hour model"
   ]
  },
  {
   "cell_type": "markdown",
   "id": "8b0f28c9",
   "metadata": {
    "papermill": {
     "duration": 0.029942,
     "end_time": "2021-10-15T14:23:46.218023",
     "exception": false,
     "start_time": "2021-10-15T14:23:46.188081",
     "status": "completed"
    },
    "tags": []
   },
   "source": [
    "### X"
   ]
  },
  {
   "cell_type": "code",
   "execution_count": 6,
   "id": "5b23453f",
   "metadata": {
    "execution": {
     "iopub.execute_input": "2021-10-15T14:23:46.282350Z",
     "iopub.status.busy": "2021-10-15T14:23:46.281375Z",
     "iopub.status.idle": "2021-10-15T14:23:46.332940Z",
     "shell.execute_reply": "2021-10-15T14:23:46.333475Z",
     "shell.execute_reply.started": "2021-10-15T14:19:36.713075Z"
    },
    "papermill": {
     "duration": 0.08549,
     "end_time": "2021-10-15T14:23:46.333666",
     "exception": false,
     "start_time": "2021-10-15T14:23:46.248176",
     "status": "completed"
    },
    "tags": []
   },
   "outputs": [],
   "source": [
    "## For all\n",
    "df_model = df[df.date_time < '01-01-2020']\n",
    "df_model = pd.concat([df_model,create_sincos_year_array(df_model.shape[0], df_model.date_time.max(), df_model.date_time.min(), n_days_in_year=366)],axis=1)\n",
    "_y_ = df_model[[y1,y2,y3]]"
   ]
  },
  {
   "cell_type": "code",
   "execution_count": 7,
   "id": "f1eaa1d3",
   "metadata": {
    "execution": {
     "iopub.execute_input": "2021-10-15T14:23:46.398129Z",
     "iopub.status.busy": "2021-10-15T14:23:46.397137Z",
     "iopub.status.idle": "2021-10-15T14:23:46.407870Z",
     "shell.execute_reply": "2021-10-15T14:23:46.408337Z",
     "shell.execute_reply.started": "2021-10-15T14:19:44.040964Z"
    },
    "papermill": {
     "duration": 0.044637,
     "end_time": "2021-10-15T14:23:46.408543",
     "exception": false,
     "start_time": "2021-10-15T14:23:46.363906",
     "status": "completed"
    },
    "tags": []
   },
   "outputs": [],
   "source": [
    "x = df_model.iloc[:,-10:]\n",
    "x['hour'] = df_model.hour\n",
    "x = x.drop(['day_of_year','weekofyear','year'],axis=1)"
   ]
  },
  {
   "cell_type": "code",
   "execution_count": 8,
   "id": "aeaff676",
   "metadata": {
    "execution": {
     "iopub.execute_input": "2021-10-15T14:23:46.474261Z",
     "iopub.status.busy": "2021-10-15T14:23:46.473303Z",
     "iopub.status.idle": "2021-10-15T14:23:46.502284Z",
     "shell.execute_reply": "2021-10-15T14:23:46.501722Z",
     "shell.execute_reply.started": "2021-10-15T14:19:49.181280Z"
    },
    "papermill": {
     "duration": 0.062688,
     "end_time": "2021-10-15T14:23:46.502420",
     "exception": false,
     "start_time": "2021-10-15T14:23:46.439732",
     "status": "completed"
    },
    "tags": []
   },
   "outputs": [],
   "source": [
    "## 1 just dummies model\n",
    "x_dummy = pd.concat([x,make_dummies(x['hour'])],axis=1)\n",
    "x_dummy = pd.concat([x_dummy,make_dummies(x['month'])],axis=1)\n",
    "x_dummy.drop(['month', 'hour_9', 'hour_9**2', 'hour_9**3', 'hour', 'sin_year', 'cos_year'],axis=1,inplace=True)\n",
    "x_dummy['intercept'] = 1"
   ]
  },
  {
   "cell_type": "code",
   "execution_count": 9,
   "id": "8d844b17",
   "metadata": {
    "execution": {
     "iopub.execute_input": "2021-10-15T14:23:46.568660Z",
     "iopub.status.busy": "2021-10-15T14:23:46.568024Z",
     "iopub.status.idle": "2021-10-15T14:23:46.580301Z",
     "shell.execute_reply": "2021-10-15T14:23:46.579767Z",
     "shell.execute_reply.started": "2021-10-15T14:19:50.386322Z"
    },
    "papermill": {
     "duration": 0.047912,
     "end_time": "2021-10-15T14:23:46.580462",
     "exception": false,
     "start_time": "2021-10-15T14:23:46.532550",
     "status": "completed"
    },
    "tags": []
   },
   "outputs": [],
   "source": [
    "## 2 month dummies and hour transformed\n",
    "x_hour_9 = pd.concat([x,make_dummies(x['month'])],axis=1)\n",
    "x_hour_9.drop(['month', 'hour', 'sin_year', 'cos_year'],axis=1,inplace=True)\n",
    "x_hour_9['intercept'] = 1"
   ]
  },
  {
   "cell_type": "code",
   "execution_count": 10,
   "id": "ed782a7e",
   "metadata": {
    "execution": {
     "iopub.execute_input": "2021-10-15T14:23:46.647661Z",
     "iopub.status.busy": "2021-10-15T14:23:46.647003Z",
     "iopub.status.idle": "2021-10-15T14:23:46.649560Z",
     "shell.execute_reply": "2021-10-15T14:23:46.650035Z",
     "shell.execute_reply.started": "2021-10-15T14:19:51.847876Z"
    },
    "papermill": {
     "duration": 0.039671,
     "end_time": "2021-10-15T14:23:46.650211",
     "exception": false,
     "start_time": "2021-10-15T14:23:46.610540",
     "status": "completed"
    },
    "tags": []
   },
   "outputs": [],
   "source": [
    "## 3 hour transformed and sin and cos\n",
    "x_no_dummies = df_model.loc[:,['hour_9', 'hour_9**2', 'hour_9**3','sin_year', 'cos_year']]\n",
    "x_no_dummies['intercept'] = 1"
   ]
  },
  {
   "cell_type": "markdown",
   "id": "a1639b98",
   "metadata": {
    "papermill": {
     "duration": 0.029347,
     "end_time": "2021-10-15T14:23:46.710604",
     "exception": false,
     "start_time": "2021-10-15T14:23:46.681257",
     "status": "completed"
    },
    "tags": []
   },
   "source": [
    "---\n",
    "# Linear Regression Models"
   ]
  },
  {
   "cell_type": "code",
   "execution_count": 11,
   "id": "6db42c6f",
   "metadata": {
    "execution": {
     "iopub.execute_input": "2021-10-15T14:23:46.774289Z",
     "iopub.status.busy": "2021-10-15T14:23:46.773679Z",
     "iopub.status.idle": "2021-10-15T14:23:46.958016Z",
     "shell.execute_reply": "2021-10-15T14:23:46.957400Z",
     "shell.execute_reply.started": "2021-10-15T14:19:54.113811Z"
    },
    "papermill": {
     "duration": 0.217496,
     "end_time": "2021-10-15T14:23:46.958156",
     "exception": false,
     "start_time": "2021-10-15T14:23:46.740660",
     "status": "completed"
    },
    "tags": []
   },
   "outputs": [],
   "source": [
    "from statsmodels.regression.linear_model import OLS\n",
    "from statsmodels.tsa.stattools import acf, pacf\n",
    "from statsmodels.graphics.tsaplots import plot_acf, plot_pacf\n",
    "from sklearn.model_selection import train_test_split\n",
    "from metrics import create_metrics"
   ]
  },
  {
   "cell_type": "code",
   "execution_count": 12,
   "id": "edc242e2",
   "metadata": {
    "execution": {
     "iopub.execute_input": "2021-10-15T14:23:47.029057Z",
     "iopub.status.busy": "2021-10-15T14:23:47.028324Z",
     "iopub.status.idle": "2021-10-15T14:23:47.031371Z",
     "shell.execute_reply": "2021-10-15T14:23:47.030875Z",
     "shell.execute_reply.started": "2021-10-15T14:19:54.977711Z"
    },
    "papermill": {
     "duration": 0.042316,
     "end_time": "2021-10-15T14:23:47.031542",
     "exception": false,
     "start_time": "2021-10-15T14:23:46.989226",
     "status": "completed"
    },
    "tags": []
   },
   "outputs": [],
   "source": [
    "def ols_model(x, y, codename=None):\n",
    "    if codename == None:\n",
    "        codename = f'{ x.shape[1] }_{ y.name.split(\" \")[2] }'\n",
    "        \n",
    "    x_train, x_test = x[df_model.date_time<'01-01-2018'], x[df_model.date_time>='01-01-2018']\n",
    "    y_train, y_test = y[df_model.date_time<'01-01-2018'], y[df_model.date_time>='01-01-2018']\n",
    "    \n",
    "    model = OLS(y_train,x_train)\n",
    "    fit = model.fit()\n",
    "    y_pred = fit.predict(x_test)\n",
    "    \n",
    "    metrics = create_metrics(y_test,y_pred)\n",
    "    return {'y_pred': y_pred, 'fit': fit, 'model':model, 'metrics':metrics, 'codename': codename}"
   ]
  },
  {
   "cell_type": "markdown",
   "id": "194699ef",
   "metadata": {
    "papermill": {
     "duration": 0.029636,
     "end_time": "2021-10-15T14:23:47.091961",
     "exception": false,
     "start_time": "2021-10-15T14:23:47.062325",
     "status": "completed"
    },
    "tags": []
   },
   "source": [
    "# 3. Models"
   ]
  },
  {
   "cell_type": "markdown",
   "id": "732fefa6",
   "metadata": {
    "papermill": {
     "duration": 0.02962,
     "end_time": "2021-10-15T14:23:47.151653",
     "exception": false,
     "start_time": "2021-10-15T14:23:47.122033",
     "status": "completed"
    },
    "tags": []
   },
   "source": [
    "## 1. Dummies model"
   ]
  },
  {
   "cell_type": "code",
   "execution_count": 13,
   "id": "2e347879",
   "metadata": {
    "execution": {
     "iopub.execute_input": "2021-10-15T14:23:47.217196Z",
     "iopub.status.busy": "2021-10-15T14:23:47.216476Z",
     "iopub.status.idle": "2021-10-15T14:23:47.515418Z",
     "shell.execute_reply": "2021-10-15T14:23:47.516378Z",
     "shell.execute_reply.started": "2021-10-15T14:19:56.173532Z"
    },
    "papermill": {
     "duration": 0.335169,
     "end_time": "2021-10-15T14:23:47.516729",
     "exception": false,
     "start_time": "2021-10-15T14:23:47.181560",
     "status": "completed"
    },
    "tags": []
   },
   "outputs": [],
   "source": [
    "model_dummies = ols_model(x_dummy,_y_.iloc[:,2],codename='Dummies')"
   ]
  },
  {
   "cell_type": "code",
   "execution_count": 14,
   "id": "89e794a8",
   "metadata": {
    "execution": {
     "iopub.execute_input": "2021-10-15T14:23:47.625741Z",
     "iopub.status.busy": "2021-10-15T14:23:47.622712Z",
     "iopub.status.idle": "2021-10-15T14:23:47.628139Z",
     "shell.execute_reply": "2021-10-15T14:23:47.628707Z",
     "shell.execute_reply.started": "2021-10-15T14:19:56.705980Z"
    },
    "papermill": {
     "duration": 0.057364,
     "end_time": "2021-10-15T14:23:47.628878",
     "exception": false,
     "start_time": "2021-10-15T14:23:47.571514",
     "status": "completed"
    },
    "tags": []
   },
   "outputs": [
    {
     "data": {
      "text/plain": [
       "{'mean abs deviation': 2.9074953021726264,\n",
       " 'mean absolute error': 1.6612933887417982,\n",
       " 'median abs deviation': 2.400000000000002,\n",
       " 'median absolute error': 1.3935025540001487}"
      ]
     },
     "execution_count": 14,
     "metadata": {},
     "output_type": "execute_result"
    }
   ],
   "source": [
    "model_dummies['metrics']"
   ]
  },
  {
   "cell_type": "code",
   "execution_count": 15,
   "id": "c1124479",
   "metadata": {
    "execution": {
     "iopub.execute_input": "2021-10-15T14:23:47.693063Z",
     "iopub.status.busy": "2021-10-15T14:23:47.692434Z",
     "iopub.status.idle": "2021-10-15T14:23:48.592649Z",
     "shell.execute_reply": "2021-10-15T14:23:48.593108Z",
     "shell.execute_reply.started": "2021-10-15T14:19:57.036605Z"
    },
    "papermill": {
     "duration": 0.934374,
     "end_time": "2021-10-15T14:23:48.593277",
     "exception": false,
     "start_time": "2021-10-15T14:23:47.658903",
     "status": "completed"
    },
    "tags": []
   },
   "outputs": [
    {
     "data": {
      "image/png": "[encoded data removed]",
      "text/plain": [
       "<Figure size 432x288 with 1 Axes>"
      ]
     },
     "metadata": {},
     "output_type": "display_data"
    }
   ],
   "source": [
    "residuals = model_dummies['fit'].resid\n",
    "plt.xlim(-10,10)\n",
    "_ = sns.histplot(residuals)"
   ]
  },
  {
   "cell_type": "code",
   "execution_count": 16,
   "id": "6b7e87f1",
   "metadata": {
    "execution": {
     "iopub.execute_input": "2021-10-15T14:23:48.666153Z",
     "iopub.status.busy": "2021-10-15T14:23:48.665482Z",
     "iopub.status.idle": "2021-10-15T14:23:51.276024Z",
     "shell.execute_reply": "2021-10-15T14:23:51.275413Z",
     "shell.execute_reply.started": "2021-10-15T14:19:57.852377Z"
    },
    "papermill": {
     "duration": 2.651979,
     "end_time": "2021-10-15T14:23:51.276163",
     "exception": false,
     "start_time": "2021-10-15T14:23:48.624184",
     "status": "completed"
    },
    "tags": []
   },
   "outputs": [
    {
     "data": {
      "image/png": "[encoded data removed]",
      "text/plain": [
       "<Figure size 432x288 with 1 Axes>"
      ]
     },
     "metadata": {},
     "output_type": "display_data"
    },
    {
     "data": {
      "image/png": "[encoded data removed]",
      "text/plain": [
       "<Figure size 432x288 with 1 Axes>"
      ]
     },
     "metadata": {},
     "output_type": "display_data"
    }
   ],
   "source": [
    "_ = plot_acf(residuals)\n",
    "_ = plot_pacf(residuals)"
   ]
  },
  {
   "cell_type": "code",
   "execution_count": 17,
   "id": "85dd48a5",
   "metadata": {
    "execution": {
     "iopub.execute_input": "2021-10-15T14:23:51.351677Z",
     "iopub.status.busy": "2021-10-15T14:23:51.350959Z",
     "iopub.status.idle": "2021-10-15T14:23:51.737401Z",
     "shell.execute_reply": "2021-10-15T14:23:51.736747Z",
     "shell.execute_reply.started": "2021-10-15T14:20:00.599067Z"
    },
    "papermill": {
     "duration": 0.42683,
     "end_time": "2021-10-15T14:23:51.737563",
     "exception": false,
     "start_time": "2021-10-15T14:23:51.310733",
     "status": "completed"
    },
    "tags": []
   },
   "outputs": [
    {
     "data": {
      "image/png": "[encoded data removed]",
      "text/plain": [
       "<Figure size 432x288 with 1 Axes>"
      ]
     },
     "metadata": {},
     "output_type": "display_data"
    }
   ],
   "source": [
    "df_plot = pd.DataFrame(df_model.date_time[:len(residuals)])\n",
    "df_plot['resid'] = residuals\n",
    "df_plot.index = df_plot.date_time\n",
    "df_plot.drop('date_time',inplace=True,axis=1)\n",
    "df_plot = df_plot.resample('M').mean()\n",
    "_ = df_plot.plot()"
   ]
  },
  {
   "cell_type": "markdown",
   "id": "6a0a856e",
   "metadata": {
    "papermill": {
     "duration": 0.033747,
     "end_time": "2021-10-15T14:23:51.805396",
     "exception": false,
     "start_time": "2021-10-15T14:23:51.771649",
     "status": "completed"
    },
    "tags": []
   },
   "source": [
    "## 2. Transformed hour model"
   ]
  },
  {
   "cell_type": "code",
   "execution_count": 18,
   "id": "cd168f8d",
   "metadata": {
    "execution": {
     "iopub.execute_input": "2021-10-15T14:23:51.880330Z",
     "iopub.status.busy": "2021-10-15T14:23:51.878788Z",
     "iopub.status.idle": "2021-10-15T14:23:52.000235Z",
     "shell.execute_reply": "2021-10-15T14:23:52.001285Z",
     "shell.execute_reply.started": "2021-10-15T14:20:01.006023Z"
    },
    "papermill": {
     "duration": 0.161975,
     "end_time": "2021-10-15T14:23:52.001628",
     "exception": false,
     "start_time": "2021-10-15T14:23:51.839653",
     "status": "completed"
    },
    "tags": []
   },
   "outputs": [],
   "source": [
    "model_hour9 = ols_model(x_hour_9,_y_.iloc[:,2], codename='Hour 9')"
   ]
  },
  {
   "cell_type": "code",
   "execution_count": 19,
   "id": "e3622373",
   "metadata": {
    "execution": {
     "iopub.execute_input": "2021-10-15T14:23:52.118531Z",
     "iopub.status.busy": "2021-10-15T14:23:52.117831Z",
     "iopub.status.idle": "2021-10-15T14:23:52.121631Z",
     "shell.execute_reply": "2021-10-15T14:23:52.121102Z",
     "shell.execute_reply.started": "2021-10-15T14:20:01.158373Z"
    },
    "papermill": {
     "duration": 0.055071,
     "end_time": "2021-10-15T14:23:52.121783",
     "exception": false,
     "start_time": "2021-10-15T14:23:52.066712",
     "status": "completed"
    },
    "tags": []
   },
   "outputs": [
    {
     "data": {
      "text/plain": [
       "{'mean abs deviation': 2.9074953021726264,\n",
       " 'mean absolute error': 1.6822048040370476,\n",
       " 'median abs deviation': 2.400000000000002,\n",
       " 'median absolute error': 1.3980298037015189}"
      ]
     },
     "execution_count": 19,
     "metadata": {},
     "output_type": "execute_result"
    }
   ],
   "source": [
    "model_hour9['metrics']"
   ]
  },
  {
   "cell_type": "code",
   "execution_count": 20,
   "id": "43c30bef",
   "metadata": {
    "execution": {
     "iopub.execute_input": "2021-10-15T14:23:52.195965Z",
     "iopub.status.busy": "2021-10-15T14:23:52.195309Z",
     "iopub.status.idle": "2021-10-15T14:23:52.961989Z",
     "shell.execute_reply": "2021-10-15T14:23:52.961420Z",
     "shell.execute_reply.started": "2021-10-15T14:20:01.169633Z"
    },
    "papermill": {
     "duration": 0.80589,
     "end_time": "2021-10-15T14:23:52.962136",
     "exception": false,
     "start_time": "2021-10-15T14:23:52.156246",
     "status": "completed"
    },
    "tags": []
   },
   "outputs": [
    {
     "data": {
      "image/png": "[encoded data removed]",
      "text/plain": [
       "<Figure size 432x288 with 1 Axes>"
      ]
     },
     "metadata": {},
     "output_type": "display_data"
    }
   ],
   "source": [
    "residuals = model_hour9['fit'].resid\n",
    "plt.xlim(-10,10)\n",
    "_ = sns.histplot(residuals)"
   ]
  },
  {
   "cell_type": "code",
   "execution_count": 21,
   "id": "7b48d4a3",
   "metadata": {
    "execution": {
     "iopub.execute_input": "2021-10-15T14:23:53.064409Z",
     "iopub.status.busy": "2021-10-15T14:23:53.063229Z",
     "iopub.status.idle": "2021-10-15T14:23:55.696938Z",
     "shell.execute_reply": "2021-10-15T14:23:55.696339Z",
     "shell.execute_reply.started": "2021-10-15T14:20:01.959798Z"
    },
    "papermill": {
     "duration": 2.698235,
     "end_time": "2021-10-15T14:23:55.697085",
     "exception": false,
     "start_time": "2021-10-15T14:23:52.998850",
     "status": "completed"
    },
    "tags": []
   },
   "outputs": [
    {
     "data": {
      "image/png": "[encoded data removed]",
      "text/plain": [
       "<Figure size 432x288 with 1 Axes>"
      ]
     },
     "metadata": {},
     "output_type": "display_data"
    },
    {
     "data": {
      "image/png": "[encoded data removed]",
      "text/plain": [
       "<Figure size 432x288 with 1 Axes>"
      ]
     },
     "metadata": {},
     "output_type": "display_data"
    }
   ],
   "source": [
    "_ = plot_acf(residuals)\n",
    "_ = plot_pacf(residuals)"
   ]
  },
  {
   "cell_type": "code",
   "execution_count": 22,
   "id": "f530fec6",
   "metadata": {
    "execution": {
     "iopub.execute_input": "2021-10-15T14:23:55.780733Z",
     "iopub.status.busy": "2021-10-15T14:23:55.780016Z",
     "iopub.status.idle": "2021-10-15T14:23:56.081750Z",
     "shell.execute_reply": "2021-10-15T14:23:56.081223Z",
     "shell.execute_reply.started": "2021-10-15T14:20:04.634212Z"
    },
    "papermill": {
     "duration": 0.347753,
     "end_time": "2021-10-15T14:23:56.081893",
     "exception": false,
     "start_time": "2021-10-15T14:23:55.734140",
     "status": "completed"
    },
    "tags": []
   },
   "outputs": [
    {
     "data": {
      "image/png": "[encoded data removed]",
      "text/plain": [
       "<Figure size 432x288 with 1 Axes>"
      ]
     },
     "metadata": {},
     "output_type": "display_data"
    }
   ],
   "source": [
    "df_plot = pd.DataFrame(df_model.date_time[:len(residuals)])\n",
    "df_plot['resid'] = residuals\n",
    "df_plot.index = df_plot.date_time\n",
    "df_plot.drop('date_time',inplace=True,axis=1)\n",
    "df_plot = df_plot.resample('M').mean()\n",
    "_ = df_plot.plot()"
   ]
  },
  {
   "cell_type": "markdown",
   "id": "1be2effb",
   "metadata": {
    "papermill": {
     "duration": 0.037983,
     "end_time": "2021-10-15T14:23:56.158315",
     "exception": false,
     "start_time": "2021-10-15T14:23:56.120332",
     "status": "completed"
    },
    "tags": []
   },
   "source": [
    "## 3. No dummies"
   ]
  },
  {
   "cell_type": "code",
   "execution_count": 23,
   "id": "19d11f8f",
   "metadata": {
    "execution": {
     "iopub.execute_input": "2021-10-15T14:23:56.240155Z",
     "iopub.status.busy": "2021-10-15T14:23:56.239369Z",
     "iopub.status.idle": "2021-10-15T14:23:56.300507Z",
     "shell.execute_reply": "2021-10-15T14:23:56.301539Z",
     "shell.execute_reply.started": "2021-10-15T14:20:04.995601Z"
    },
    "papermill": {
     "duration": 0.105351,
     "end_time": "2021-10-15T14:23:56.301835",
     "exception": false,
     "start_time": "2021-10-15T14:23:56.196484",
     "status": "completed"
    },
    "tags": []
   },
   "outputs": [],
   "source": [
    "model_no_dummies = ols_model(x_no_dummies,_y_.iloc[:,2], codename='No Dummies')"
   ]
  },
  {
   "cell_type": "code",
   "execution_count": 24,
   "id": "81e911ae",
   "metadata": {
    "execution": {
     "iopub.execute_input": "2021-10-15T14:23:56.426799Z",
     "iopub.status.busy": "2021-10-15T14:23:56.425811Z",
     "iopub.status.idle": "2021-10-15T14:23:56.429962Z",
     "shell.execute_reply": "2021-10-15T14:23:56.429340Z",
     "shell.execute_reply.started": "2021-10-15T14:20:05.070216Z"
    },
    "papermill": {
     "duration": 0.056567,
     "end_time": "2021-10-15T14:23:56.430113",
     "exception": false,
     "start_time": "2021-10-15T14:23:56.373546",
     "status": "completed"
    },
    "tags": []
   },
   "outputs": [
    {
     "data": {
      "text/plain": [
       "{'mean abs deviation': 2.9074953021726264,\n",
       " 'mean absolute error': 1.683338499312467,\n",
       " 'median abs deviation': 2.400000000000002,\n",
       " 'median absolute error': 1.3881293302842916}"
      ]
     },
     "execution_count": 24,
     "metadata": {},
     "output_type": "execute_result"
    }
   ],
   "source": [
    "model_no_dummies['metrics']"
   ]
  },
  {
   "cell_type": "code",
   "execution_count": 25,
   "id": "c33a74a8",
   "metadata": {
    "execution": {
     "iopub.execute_input": "2021-10-15T14:23:56.511628Z",
     "iopub.status.busy": "2021-10-15T14:23:56.510925Z",
     "iopub.status.idle": "2021-10-15T14:23:57.269134Z",
     "shell.execute_reply": "2021-10-15T14:23:57.269692Z",
     "shell.execute_reply.started": "2021-10-15T14:20:05.080191Z"
    },
    "papermill": {
     "duration": 0.80104,
     "end_time": "2021-10-15T14:23:57.269871",
     "exception": false,
     "start_time": "2021-10-15T14:23:56.468831",
     "status": "completed"
    },
    "tags": []
   },
   "outputs": [
    {
     "data": {
      "image/png": "[encoded data removed]",
      "text/plain": [
       "<Figure size 432x288 with 1 Axes>"
      ]
     },
     "metadata": {},
     "output_type": "display_data"
    }
   ],
   "source": [
    "residuals = model_no_dummies['fit'].resid\n",
    "plt.xlim(-10,10)\n",
    "_ = sns.histplot(residuals)"
   ]
  },
  {
   "cell_type": "code",
   "execution_count": 26,
   "id": "c121210f",
   "metadata": {
    "execution": {
     "iopub.execute_input": "2021-10-15T14:23:57.514267Z",
     "iopub.status.busy": "2021-10-15T14:23:57.353165Z",
     "iopub.status.idle": "2021-10-15T14:24:00.104945Z",
     "shell.execute_reply": "2021-10-15T14:24:00.104376Z",
     "shell.execute_reply.started": "2021-10-15T14:20:05.874799Z"
    },
    "papermill": {
     "duration": 2.794663,
     "end_time": "2021-10-15T14:24:00.105079",
     "exception": false,
     "start_time": "2021-10-15T14:23:57.310416",
     "status": "completed"
    },
    "tags": []
   },
   "outputs": [
    {
     "data": {
      "image/png": "[encoded data removed]",
      "text/plain": [
       "<Figure size 432x288 with 1 Axes>"
      ]
     },
     "metadata": {},
     "output_type": "display_data"
    },
    {
     "data": {
      "image/png": "[encoded data removed]",
      "text/plain": [
       "<Figure size 432x288 with 1 Axes>"
      ]
     },
     "metadata": {},
     "output_type": "display_data"
    }
   ],
   "source": [
    "_ = plot_acf(residuals)\n",
    "_ = plot_pacf(residuals)"
   ]
  },
  {
   "cell_type": "code",
   "execution_count": 27,
   "id": "e9aa9c96",
   "metadata": {
    "execution": {
     "iopub.execute_input": "2021-10-15T14:24:00.191589Z",
     "iopub.status.busy": "2021-10-15T14:24:00.190902Z",
     "iopub.status.idle": "2021-10-15T14:24:00.533057Z",
     "shell.execute_reply": "2021-10-15T14:24:00.533539Z",
     "shell.execute_reply.started": "2021-10-15T14:20:08.597221Z"
    },
    "papermill": {
     "duration": 0.387425,
     "end_time": "2021-10-15T14:24:00.533717",
     "exception": false,
     "start_time": "2021-10-15T14:24:00.146292",
     "status": "completed"
    },
    "tags": []
   },
   "outputs": [
    {
     "data": {
      "image/png": "[encoded data removed]",
      "text/plain": [
       "<Figure size 432x288 with 1 Axes>"
      ]
     },
     "metadata": {},
     "output_type": "display_data"
    }
   ],
   "source": [
    "df_plot = pd.DataFrame(df_model.date_time[:len(residuals)])\n",
    "df_plot['resid'] = residuals\n",
    "df_plot.index = df_plot.date_time\n",
    "df_plot.drop('date_time',inplace=True,axis=1)\n",
    "df_plot = df_plot.resample('M').mean()\n",
    "_ = df_plot.plot()"
   ]
  },
  {
   "cell_type": "markdown",
   "id": "2e9fd0df",
   "metadata": {
    "execution": {
     "iopub.execute_input": "2021-09-23T19:08:07.853684Z",
     "iopub.status.busy": "2021-09-23T19:08:07.853361Z",
     "iopub.status.idle": "2021-09-23T19:08:07.858714Z",
     "shell.execute_reply": "2021-09-23T19:08:07.857716Z",
     "shell.execute_reply.started": "2021-09-23T19:08:07.85365Z"
    },
    "papermill": {
     "duration": 0.042094,
     "end_time": "2021-10-15T14:24:00.618567",
     "exception": false,
     "start_time": "2021-10-15T14:24:00.576473",
     "status": "completed"
    },
    "tags": []
   },
   "source": [
    "## Conclusions"
   ]
  },
  {
   "cell_type": "code",
   "execution_count": 28,
   "id": "5405c226",
   "metadata": {
    "execution": {
     "iopub.execute_input": "2021-10-15T14:24:00.708589Z",
     "iopub.status.busy": "2021-10-15T14:24:00.707881Z",
     "iopub.status.idle": "2021-10-15T14:24:00.712767Z",
     "shell.execute_reply": "2021-10-15T14:24:00.713261Z",
     "shell.execute_reply.started": "2021-10-15T14:20:08.941376Z"
    },
    "papermill": {
     "duration": 0.052379,
     "end_time": "2021-10-15T14:24:00.713426",
     "exception": false,
     "start_time": "2021-10-15T14:24:00.661047",
     "status": "completed"
    },
    "tags": []
   },
   "outputs": [],
   "source": [
    "def metrics_dataframe(models,models_names = None):\n",
    "    vector = []\n",
    "    lenght = len(models)\n",
    "    for i in range(lenght):\n",
    "        vector.append(pd.DataFrame([models[i]['metrics']],index=[models[i]['codename']]))\n",
    "    return pd.concat(vector)"
   ]
  },
  {
   "cell_type": "code",
   "execution_count": 29,
   "id": "6567d568",
   "metadata": {
    "execution": {
     "iopub.execute_input": "2021-10-15T14:24:00.802197Z",
     "iopub.status.busy": "2021-10-15T14:24:00.801516Z",
     "iopub.status.idle": "2021-10-15T14:24:00.820126Z",
     "shell.execute_reply": "2021-10-15T14:24:00.819601Z",
     "shell.execute_reply.started": "2021-10-15T14:20:08.949775Z"
    },
    "papermill": {
     "duration": 0.064419,
     "end_time": "2021-10-15T14:24:00.820267",
     "exception": false,
     "start_time": "2021-10-15T14:24:00.755848",
     "status": "completed"
    },
    "tags": []
   },
   "outputs": [
    {
     "data": {
      "text/html": [
       "<div>\n",
       "<style scoped>\n",
       "    .dataframe tbody tr th:only-of-type {\n",
       "        vertical-align: middle;\n",
       "    }\n",
       "\n",
       "    .dataframe tbody tr th {\n",
       "        vertical-align: top;\n",
       "    }\n",
       "\n",
       "    .dataframe thead th {\n",
       "        text-align: right;\n",
       "    }\n",
       "</style>\n",
       "<table border=\"1\" class=\"dataframe\">\n",
       "  <thead>\n",
       "    <tr style=\"text-align: right;\">\n",
       "      <th></th>\n",
       "      <th>mean abs deviation</th>\n",
       "      <th>mean absolute error</th>\n",
       "      <th>median abs deviation</th>\n",
       "      <th>median absolute error</th>\n",
       "    </tr>\n",
       "  </thead>\n",
       "  <tbody>\n",
       "    <tr>\n",
       "      <th>Dummies</th>\n",
       "      <td>2.907495</td>\n",
       "      <td>1.661293</td>\n",
       "      <td>2.4</td>\n",
       "      <td>1.393503</td>\n",
       "    </tr>\n",
       "    <tr>\n",
       "      <th>Hour 9</th>\n",
       "      <td>2.907495</td>\n",
       "      <td>1.682205</td>\n",
       "      <td>2.4</td>\n",
       "      <td>1.398030</td>\n",
       "    </tr>\n",
       "    <tr>\n",
       "      <th>No Dummies</th>\n",
       "      <td>2.907495</td>\n",
       "      <td>1.683338</td>\n",
       "      <td>2.4</td>\n",
       "      <td>1.388129</td>\n",
       "    </tr>\n",
       "  </tbody>\n",
       "</table>\n",
       "</div>"
      ],
      "text/plain": [
       "            mean abs deviation  mean absolute error  median abs deviation  \\\n",
       "Dummies               2.907495             1.661293                   2.4   \n",
       "Hour 9                2.907495             1.682205                   2.4   \n",
       "No Dummies            2.907495             1.683338                   2.4   \n",
       "\n",
       "            median absolute error  \n",
       "Dummies                  1.393503  \n",
       "Hour 9                   1.398030  \n",
       "No Dummies               1.388129  "
      ]
     },
     "execution_count": 29,
     "metadata": {},
     "output_type": "execute_result"
    }
   ],
   "source": [
    "# names = ['Dummies','No Dummies','Hour9']\n",
    "models = [model_dummies, model_hour9, model_no_dummies]\n",
    "metrics_dataframe(models)"
   ]
  }
 ],
 "metadata": {
  "kernelspec": {
   "display_name": "Python 3",
   "language": "python",
   "name": "python3"
  },
  "language_info": {
   "codemirror_mode": {
    "name": "ipython",
    "version": 3
   },
   "file_extension": ".py",
   "mimetype": "text/x-python",
   "name": "python",
   "nbconvert_exporter": "python",
   "pygments_lexer": "ipython3",
   "version": "3.7.10"
  },
  "papermill": {
   "default_parameters": {},
   "duration": 116.822341,
   "end_time": "2021-10-15T14:24:02.688826",
   "environment_variables": {},
   "exception": null,
   "input_path": "__notebook__.ipynb",
   "output_path": "__notebook__.ipynb",
   "parameters": {},
   "start_time": "2021-10-15T14:22:05.866485",
   "version": "2.3.3"
  }
 },
 "nbformat": 4,
 "nbformat_minor": 5
}
