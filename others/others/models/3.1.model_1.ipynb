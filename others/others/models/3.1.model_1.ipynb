{
 "cells": [
  {
   "cell_type": "code",
   "execution_count": 7,
   "metadata": {},
   "outputs": [],
   "source": [
    "import json, os\n",
    "import pandas as pd, numpy as np, matplotlib.pyplot as plt\n",
    "\n",
    "# arima\n",
    "\n",
    "# tensorflow\n",
    "#from tensorflow.keras.callbacks import EarlyStopping\n",
    "from tensorflow.keras.layers import LSTM, Dropout, Dense\n",
    "from tensorflow.keras.models import Sequential\n",
    "from tensorflow.keras.preprocessing.sequence import TimeseriesGenerator"
   ]
  },
  {
   "cell_type": "code",
   "execution_count": 16,
   "metadata": {},
   "outputs": [],
   "source": [
    "models = '../config/models.json'\n",
    "with open(models) as data:\n",
    "    models = json.load(data)"
   ]
  },
  {
   "cell_type": "code",
   "execution_count": 17,
   "metadata": {},
   "outputs": [],
   "source": [
    "model_info = models['model_1']"
   ]
  },
  {
   "cell_type": "code",
   "execution_count": 18,
   "metadata": {},
   "outputs": [
    {
     "data": {
      "text/plain": [
       "{'info': 'just vitoria station data',\n",
       " 'time_granularity': ['00', '03', '06', '09', '12', '15', '18', '21', '24'],\n",
       " 'model_type': 'lstm',\n",
       " 'dataset': 'dataset_1',\n",
       " 'training_parameters': {'epochs': 100,\n",
       "  'n_steps_in': 42,\n",
       "  'n_steps_out': 42,\n",
       "  'first_layer': 16,\n",
       "  'hidden_layers': [32, 64, 32],\n",
       "  'optimizer': 'adam',\n",
       "  'loss': 'mse'}}"
      ]
     },
     "execution_count": 18,
     "metadata": {},
     "output_type": "execute_result"
    }
   ],
   "source": [
    "model_info"
   ]
  },
  {
   "cell_type": "code",
   "execution_count": 19,
   "metadata": {},
   "outputs": [],
   "source": [
    "df = pd.read_csv('../data/datasets/{}.csv'.format(model_info['dataset']))"
   ]
  },
  {
   "cell_type": "code",
   "execution_count": 138,
   "metadata": {},
   "outputs": [],
   "source": [
    "# y = df.iloc[:,1:17].to_numpy()\n",
    "y = df.iloc[:,[1,7,8]].to_numpy()\n",
    "x = df.iloc[:,1:].to_numpy()\n",
    "steps = 8*7\n",
    "features = generator[0][0].shape[2]\n",
    "output_shape = y.shape[1]"
   ]
  },
  {
   "cell_type": "code",
   "execution_count": 139,
   "metadata": {},
   "outputs": [],
   "source": [
    "generator = TimeseriesGenerator(x,y,steps)"
   ]
  },
  {
   "cell_type": "code",
   "execution_count": 140,
   "metadata": {},
   "outputs": [
    {
     "name": "stdout",
     "output_type": "stream",
     "text": [
      "WARNING:tensorflow:Layer lstm_18 will not use cuDNN kernel since it doesn't meet the cuDNN kernel criteria. It will use generic GPU kernel as fallback when running on GPU\n",
      "WARNING:tensorflow:Layer lstm_19 will not use cuDNN kernel since it doesn't meet the cuDNN kernel criteria. It will use generic GPU kernel as fallback when running on GPU\n"
     ]
    }
   ],
   "source": [
    "model = Sequential()\n",
    "model.add(LSTM(16, activation='relu', return_sequences=True, input_shape=(steps,features)))\n",
    "model.add(Dropout(0.35))\n",
    "model.add(LSTM(32, activation='relu'))\n",
    "model.add(Dense(output_shape))\n",
    "model.compile(optimizer='adam', loss='mse')"
   ]
  },
  {
   "cell_type": "code",
   "execution_count": 141,
   "metadata": {},
   "outputs": [
    {
     "name": "stdout",
     "output_type": "stream",
     "text": [
      "Epoch 1/15\n",
      "323/323 [==============================] - 23s 70ms/step - loss: 601259712.0000\n",
      "Epoch 2/15\n",
      "323/323 [==============================] - 23s 70ms/step - loss: 17902492.0000\n",
      "Epoch 3/15\n",
      "323/323 [==============================] - 23s 72ms/step - loss: 409182.2188\n",
      "Epoch 4/15\n",
      "323/323 [==============================] - 23s 72ms/step - loss: 25396.3750\n",
      "Epoch 5/15\n",
      "323/323 [==============================] - 23s 72ms/step - loss: 6422.3745\n",
      "Epoch 6/15\n",
      "323/323 [==============================] - 23s 70ms/step - loss: 833.7454\n",
      "Epoch 7/15\n",
      "323/323 [==============================] - 23s 70ms/step - loss: 2495.3882\n",
      "Epoch 8/15\n",
      "323/323 [==============================] - 23s 70ms/step - loss: 111.8443\n",
      "Epoch 9/15\n",
      "323/323 [==============================] - 23s 71ms/step - loss: 100.7070\n",
      "Epoch 10/15\n",
      "323/323 [==============================] - 23s 72ms/step - loss: 60.5291\n",
      "Epoch 11/15\n",
      "323/323 [==============================] - 23s 71ms/step - loss: 54.8743\n",
      "Epoch 12/15\n",
      "323/323 [==============================] - 23s 71ms/step - loss: 54.0592\n",
      "Epoch 13/15\n",
      "323/323 [==============================] - 23s 70ms/step - loss: 42.0922\n",
      "Epoch 14/15\n",
      "323/323 [==============================] - 23s 70ms/step - loss: 31.7960\n",
      "Epoch 15/15\n",
      "323/323 [==============================] - 23s 72ms/step - loss: 17.1172\n"
     ]
    }
   ],
   "source": [
    "history = model.fit_generator(generator,epochs=15)"
   ]
  },
  {
   "cell_type": "code",
   "execution_count": 142,
   "metadata": {},
   "outputs": [
    {
     "name": "stdout",
     "output_type": "stream",
     "text": [
      "Epoch 1/10\n",
      "323/323 [==============================] - 23s 71ms/step - loss: 16.2607\n",
      "Epoch 2/10\n",
      "323/323 [==============================] - 23s 71ms/step - loss: 15.1707\n",
      "Epoch 3/10\n",
      "323/323 [==============================] - 23s 72ms/step - loss: 16.0285\n",
      "Epoch 4/10\n",
      "323/323 [==============================] - 23s 72ms/step - loss: 13.8208\n",
      "Epoch 5/10\n",
      "323/323 [==============================] - 23s 71ms/step - loss: 13.8023\n",
      "Epoch 6/10\n",
      "323/323 [==============================] - 22s 70ms/step - loss: 19.9550\n",
      "Epoch 7/10\n",
      "323/323 [==============================] - 23s 70ms/step - loss: 122.8152\n",
      "Epoch 8/10\n",
      "323/323 [==============================] - 23s 71ms/step - loss: 41.8254\n",
      "Epoch 9/10\n",
      "323/323 [==============================] - 23s 71ms/step - loss: 17.3325\n",
      "Epoch 10/10\n",
      "323/323 [==============================] - 23s 70ms/step - loss: 13.3340\n"
     ]
    }
   ],
   "source": [
    "history_2 = model.fit_generator(generator,epochs=10)"
   ]
  },
  {
   "cell_type": "code",
   "execution_count": 147,
   "metadata": {},
   "outputs": [
    {
     "name": "stdout",
     "output_type": "stream",
     "text": [
      "Model: \"sequential_10\"\n",
      "_________________________________________________________________\n",
      "Layer (type)                 Output Shape              Param #   \n",
      "=================================================================\n",
      "lstm_18 (LSTM)               (None, 56, 16)            3648      \n",
      "_________________________________________________________________\n",
      "dropout_9 (Dropout)          (None, 56, 16)            0         \n",
      "_________________________________________________________________\n",
      "lstm_19 (LSTM)               (None, 32)                6272      \n",
      "_________________________________________________________________\n",
      "dense_9 (Dense)              (None, 2)                 66        \n",
      "=================================================================\n",
      "Total params: 9,986\n",
      "Trainable params: 9,986\n",
      "Non-trainable params: 0\n",
      "_________________________________________________________________\n"
     ]
    }
   ],
   "source": [
    "model.summary()"
   ]
  },
  {
   "cell_type": "code",
   "execution_count": 149,
   "metadata": {},
   "outputs": [
    {
     "name": "stdout",
     "output_type": "stream",
     "text": [
      "WARNING:tensorflow:From /home/joaoholz/miniconda3/envs/weather/lib/python3.7/site-packages/tensorflow/python/ops/resource_variable_ops.py:1817: calling BaseResourceVariable.__init__ (from tensorflow.python.ops.resource_variable_ops) with constraint is deprecated and will be removed in a future version.\n",
      "Instructions for updating:\n",
      "If using Keras pass *_constraint arguments to layers.\n",
      "INFO:tensorflow:Assets written to: ../models/model_1/assets\n"
     ]
    }
   ],
   "source": [
    "model_name = 'model_1'\n",
    "model.save('../models/{}'.format(model_name),overwrite=True)"
   ]
  },
  {
   "cell_type": "code",
   "execution_count": 150,
   "metadata": {},
   "outputs": [],
   "source": [
    "pred = model.predict(generator[322][0])"
   ]
  },
  {
   "cell_type": "code",
   "execution_count": 155,
   "metadata": {},
   "outputs": [
    {
     "data": {
      "text/plain": [
       "array([14.321288 , 15.745313 , 19.30429  , 16.74292  , 18.355883 ,\n",
       "       18.449137 , 19.468393 , 16.974682 , 14.704067 , 16.099188 ,\n",
       "       15.357915 , 15.6425295, 21.399246 , 19.457596 , 19.639235 ,\n",
       "        6.6872025,  6.5769205,  7.6343613, 17.070627 , 13.992482 ,\n",
       "       15.6549425, 15.453539 , 14.434768 , 19.480188 , 14.446894 ,\n",
       "       17.904535 , 16.073606 , 18.79073  , 19.009558 , 17.906559 ,\n",
       "       17.35426  , 16.630535 , 16.158474 , 16.334778 , 16.11864  ,\n",
       "       16.534739 , 20.77837  , 20.043285 , 19.801264 , 16.198927 ,\n",
       "       18.365387 , 13.543623 , 13.859219 , 15.116708 , 20.101614 ,\n",
       "       19.753866 , 18.557426 , 17.404993 , 12.729095 , 13.10488  ,\n",
       "       13.498984 , 13.482139 , 19.599617 , 18.348864 , 16.941998 ,\n",
       "       13.135945 , 13.48293  , 16.987068 , 20.202496 , 21.433384 ,\n",
       "       21.153423 , 18.35542  , 17.868685 , 15.99182  , 18.115065 ,\n",
       "       16.107862 , 18.203722 , 15.189851 , 20.17027  , 19.725946 ,\n",
       "       19.50942  , 20.420048 , 19.784882 , 18.88075  , 17.812166 ,\n",
       "       14.29826  , 18.836893 , 18.536066 , 16.915203 , 14.987893 ,\n",
       "       15.338004 , 16.540022 , 18.138054 , 15.384348 , 20.438374 ,\n",
       "       17.775116 , 16.956253 , 12.948964 , 14.495485 , 15.358244 ,\n",
       "       17.19358  , 20.01284  , 19.851076 , 16.132765 , 16.051233 ,\n",
       "       16.88173  , 16.54968  , 16.6303   , 17.32435  , 17.030556 ,\n",
       "       16.197975 , 15.730389 , 15.59458  ], dtype=float32)"
      ]
     },
     "execution_count": 155,
     "metadata": {},
     "output_type": "execute_result"
    }
   ],
   "source": [
    "pred[:,1]"
   ]
  },
  {
   "cell_type": "code",
   "execution_count": 156,
   "metadata": {},
   "outputs": [
    {
     "data": {
      "text/plain": [
       "[<matplotlib.lines.Line2D at 0x7ff72a339890>]"
      ]
     },
     "execution_count": 156,
     "metadata": {},
     "output_type": "execute_result"
    },
    {
     "data": {
      "image/png": "[encoded data removed]",
      "text/plain": [
       "<Figure size 432x288 with 1 Axes>"
      ]
     },
     "metadata": {
      "needs_background": "light"
     },
     "output_type": "display_data"
    }
   ],
   "source": [
    "plt.plot(pred[:,1],'-o')"
   ]
  }
 ],
 "metadata": {
  "kernelspec": {
   "display_name": "Python 3 (ipykernel)",
   "language": "python",
   "name": "python3"
  },
  "language_info": {
   "codemirror_mode": {
    "name": "ipython",
    "version": 3
   },
   "file_extension": ".py",
   "mimetype": "text/x-python",
   "name": "python",
   "nbconvert_exporter": "python",
   "pygments_lexer": "ipython3",
   "version": "3.10.6"
  }
 },
 "nbformat": 4,
 "nbformat_minor": 4
}
